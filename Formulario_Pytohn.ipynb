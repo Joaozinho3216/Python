{
  "nbformat": 4,
  "nbformat_minor": 0,
  "metadata": {
    "colab": {
      "provenance": [],
      "authorship_tag": "ABX9TyMxXftiTyz5kzDuZV3SIi2Y"
    },
    "kernelspec": {
      "name": "python3",
      "display_name": "Python 3"
    },
    "language_info": {
      "name": "python"
    }
  },
  "cells": [
    {
      "cell_type": "code",
      "execution_count": null,
      "metadata": {
        "colab": {
          "base_uri": "https://localhost:8080/"
        },
        "id": "L6Ra6r0cGQe5",
        "outputId": "1708a2af-2030-4d3e-b5aa-53f5febc2da9"
      },
      "outputs": [
        {
          "output_type": "stream",
          "name": "stdout",
          "text": [
            "\n",
            "---- MEU PRIMEIRO FORMULARIO -----\n",
            "\n"
          ]
        }
      ],
      "source": [
        "print(\"\")\n",
        "print(\"---- MEU PRIMEIRO FORMULARIO -----\")\n",
        "print(\"\")\n",
        "\n",
        "#Formuilario em python\n",
        "\n",
        "nome = input(\"Digite seu nome: \")\n",
        "print(\"\")\n",
        "cpf = int(input(\"Digite seu CPF: \"))\n",
        "print(nome)"
      ]
    }
  ]
}